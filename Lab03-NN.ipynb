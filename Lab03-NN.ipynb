{
 "cells": [
  {
   "cell_type": "markdown",
   "id": "b703febb",
   "metadata": {},
   "source": [
    "# Lab-03 Neural Networks"
   ]
  },
  {
   "cell_type": "markdown",
   "id": "4d37c9ad",
   "metadata": {},
   "source": [
    "## Loading Data"
   ]
  },
  {
   "cell_type": "code",
   "execution_count": 1,
   "id": "fd247956",
   "metadata": {},
   "outputs": [
    {
     "name": "stderr",
     "output_type": "stream",
     "text": [
      "libpng warning: iCCP: known incorrect sRGB profile\n"
     ]
    },
    {
     "name": "stdout",
     "output_type": "stream",
     "text": [
      "Total images:  2177\n",
      "Total images path:  2177\n",
      "Total postures:  9\n",
      "Total images_pixels:  2177\n"
     ]
    }
   ],
   "source": [
    "import os\n",
    "import re\n",
    "import cv2\n",
    "\n",
    "images = []\n",
    "pose_name = []\n",
    "images_path = []\n",
    "images_pixels = []\n",
    "labels = []\n",
    "\n",
    "dict = {}\n",
    "\n",
    "i=0\n",
    "dataPath = './yogaData'\n",
    "\n",
    "for directory in os.listdir(dataPath):\n",
    "    dirPath = os.path.join(dataPath, directory)\n",
    "    if os.path.isdir(dirPath):\n",
    "        pose_name.append(directory)\n",
    "        for img in os.listdir(dirPath):\n",
    "            if len(re.findall('.png',img.lower())) != 0 or len(re.findall('.jpg',img.lower())) != 0 or len(re.findall('.jpeg',img.lower())) != 0:\n",
    "                img_path = os.path.join(dirPath,img)\n",
    "                images.append(img)\n",
    "                images_path.append(img_path)\n",
    "                img_pix = cv2.imread(img_path,1)\n",
    "                images_pixels.append(cv2.resize(img_pix, (100,100)))\n",
    "                labels.append(i)\n",
    "        \n",
    "    i = i+1\n",
    "            \n",
    "print(\"Total images: \", len(images))\n",
    "print(\"Total images path: \", len(images_path))\n",
    "print(\"Total postures: \", len(pose_name))\n",
    "print(\"Total images_pixels: \", len(images_pixels))  "
   ]
  },
  {
   "cell_type": "code",
   "execution_count": 2,
   "id": "0dc133df",
   "metadata": {},
   "outputs": [],
   "source": [
    "import random\n",
    "\n",
    "shuffled = list(zip(images_pixels,labels))\n",
    "random.shuffle(shuffled)\n",
    "\n",
    "train_data, labels_data = zip(*shuffled)"
   ]
  },
  {
   "cell_type": "code",
   "execution_count": 3,
   "id": "a33ce89c",
   "metadata": {},
   "outputs": [
    {
     "name": "stderr",
     "output_type": "stream",
     "text": [
      "2023-12-05 13:15:09.121994: I tensorflow/core/platform/cpu_feature_guard.cc:182] This TensorFlow binary is optimized to use available CPU instructions in performance-critical operations.\n",
      "To enable the following instructions: SSE3 SSE4.1 SSE4.2 AVX AVX2 FMA, in other operations, rebuild TensorFlow with the appropriate compiler flags.\n"
     ]
    }
   ],
   "source": [
    "from tensorflow.keras.utils import to_categorical\n",
    "import numpy as np\n",
    "\n",
    "X_data = np.array(train_data)/255\n",
    "X_data = np.float32(X_data) # pytorch seems to require float32. float64 will result in a type error\n",
    "Y_data =  to_categorical(labels_data, num_classes = 9)"
   ]
  },
  {
   "cell_type": "code",
   "execution_count": 4,
   "id": "82a9c9bf-7483-4e05-962f-3e88417cbb29",
   "metadata": {},
   "outputs": [
    {
     "data": {
      "text/plain": [
       "(2177, 100, 100, 3)"
      ]
     },
     "execution_count": 4,
     "metadata": {},
     "output_type": "execute_result"
    }
   ],
   "source": [
    "X_data.shape"
   ]
  },
  {
   "cell_type": "markdown",
   "id": "6fac3aa7",
   "metadata": {},
   "source": [
    "## Split the Data"
   ]
  },
  {
   "cell_type": "code",
   "execution_count": 5,
   "id": "af66b307",
   "metadata": {},
   "outputs": [],
   "source": [
    "from sklearn.model_selection import StratifiedShuffleSplit\n",
    "\n",
    "sss = StratifiedShuffleSplit(n_splits=1, test_size=0.3)\n",
    "for train_indices, everything_else_indices in sss.split(X_data, Y_data):\n",
    "    # print(everything_else_indices)\n",
    "    train_x = X_data[train_indices]\n",
    "    train_y = Y_data[train_indices]\n",
    "    everything_else_x = X_data[everything_else_indices]\n",
    "    everything_else_y = Y_data[everything_else_indices]\n",
    "\n",
    "sss = StratifiedShuffleSplit(n_splits=1, test_size=0.5)\n",
    "for test_index, valid_index in sss.split(everything_else_x, everything_else_y):\n",
    "    test_x = everything_else_x[test_index]\n",
    "    valid_x = everything_else_x[valid_index]\n",
    "    test_y = everything_else_y[test_index]\n",
    "    valid_y = everything_else_y[valid_index]"
   ]
  },
  {
   "cell_type": "code",
   "execution_count": 6,
   "id": "f413d3e7-2a9f-420e-bf47-6aec9a6757e2",
   "metadata": {},
   "outputs": [
    {
     "data": {
      "text/plain": [
       "(1523, 100, 100, 3)"
      ]
     },
     "execution_count": 6,
     "metadata": {},
     "output_type": "execute_result"
    }
   ],
   "source": [
    "train_x.shape"
   ]
  },
  {
   "cell_type": "code",
   "execution_count": 7,
   "id": "bd303dbc-7241-4941-a88f-c1d9e27babae",
   "metadata": {},
   "outputs": [
    {
     "data": {
      "text/plain": [
       "array([0., 0., 0., 0., 0., 0., 1., 0., 0.], dtype=float32)"
      ]
     },
     "execution_count": 7,
     "metadata": {},
     "output_type": "execute_result"
    },
    {
     "data": {
      "image/png": "[encoded data removed]",
      "text/plain": [
       "<Figure size 640x480 with 1 Axes>"
      ]
     },
     "metadata": {},
     "output_type": "display_data"
    }
   ],
   "source": [
    "import matplotlib.pyplot as plt\n",
    "\n",
    "plt.imshow(train_x[3])\n",
    "train_y[3]"
   ]
  },
  {
   "cell_type": "markdown",
   "id": "4380e53f",
   "metadata": {},
   "source": [
    "## Random Forest\n",
    "\n",
    "Random forest can't handle 4D arrays. This can be worked around by reshaping ``train_x``, ``valid_x``, and ``test_x`` from (r, 100, 100, 3) to (r, 30000)"
   ]
  },
  {
   "cell_type": "code",
   "execution_count": 8,
   "id": "1dd7bb50-0a4b-4c54-b035-652df4f7e876",
   "metadata": {},
   "outputs": [],
   "source": [
    "samples, nx, ny, rgb = train_x.shape\n",
    "rf_train_x = train_x.reshape(samples, nx * ny * rgb)\n",
    "\n",
    "samples, nx, ny, rgb = test_x.shape\n",
    "rf_test_x = test_x.reshape(samples, nx * ny * rgb)"
   ]
  },
  {
   "cell_type": "code",
   "execution_count": 9,
   "id": "00f3e577-3093-46f2-bbd5-297e78d591a2",
   "metadata": {},
   "outputs": [
    {
     "data": {
      "text/plain": [
       "(1523, 30000)"
      ]
     },
     "execution_count": 9,
     "metadata": {},
     "output_type": "execute_result"
    }
   ],
   "source": [
    "rf_train_x.shape"
   ]
  },
  {
   "cell_type": "code",
   "execution_count": 10,
   "id": "f7da20ba",
   "metadata": {},
   "outputs": [
    {
     "data": {
      "text/plain": [
       "0.5107033639143731"
      ]
     },
     "execution_count": 10,
     "metadata": {},
     "output_type": "execute_result"
    }
   ],
   "source": [
    "from sklearn.ensemble import RandomForestClassifier\n",
    "from sklearn.metrics import accuracy_score\n",
    "\n",
    "rf = RandomForestClassifier(bootstrap=False, criterion='entropy', max_depth=16, max_features='sqrt',\n",
    "                            min_samples_leaf=1, min_samples_split=2, n_estimators=47, random_state=42)\n",
    "rf.fit(rf_train_x, train_y)\n",
    "predictions = rf.predict(rf_test_x)\n",
    "accuracy_score(test_y, predictions)"
   ]
  },
  {
   "cell_type": "markdown",
   "id": "90f8a419-430e-485c-ae44-5186c3aa0cfd",
   "metadata": {},
   "source": [
    "`criterion` is the function that measures the quality of a split in the tree.\n",
    "`min_samples_split` is the minimum number of samples in a node to split it.\n",
    "`min_samples_leaf` detremines the minimum number of samples in a leaf node.\n",
    "`max_features` determines the number of features to look at when determining the best split. In this case, it is the square root of `n_features`.\n",
    "`bootstrap` uses the whole dataset to build the tree rather than adding bootstrapping samples.\n",
    "`random_state` predetermines randomization for reproducibility.\n",
    "\n",
    "The random forest algorithm does not perform well, having less than 50% accuracy."
   ]
  },
  {
   "cell_type": "code",
   "execution_count": 11,
   "id": "b9e7d8cb-0368-45a8-ad24-9d0db64a0e4d",
   "metadata": {},
   "outputs": [
    {
     "name": "stdout",
     "output_type": "stream",
     "text": [
      "                        precision    recall  f1-score   support\n",
      "\n",
      "     Downward-Dog-Pose       1.00      0.53      0.69        34\n",
      "             Tree-Pose       0.96      0.50      0.66        50\n",
      "          Warrior-Pose       1.00      0.56      0.72        32\n",
      "            Cobra-Pose       1.00      0.57      0.72        30\n",
      "           Pigeon-Pose       1.00      0.45      0.62        31\n",
      "         Triangle-Pose       1.00      0.44      0.61        41\n",
      "           Bridge-Pose       0.95      0.50      0.66        40\n",
      "Standing-Mountain-Pose       1.00      0.60      0.75        30\n",
      "            Child-Pose       1.00      0.49      0.66        39\n",
      "\n",
      "             micro avg       0.99      0.51      0.67       327\n",
      "             macro avg       0.99      0.52      0.68       327\n",
      "          weighted avg       0.99      0.51      0.67       327\n",
      "           samples avg       0.99      0.51      1.00       327\n",
      "\n"
     ]
    }
   ],
   "source": [
    "from sklearn.metrics import classification_report\n",
    "\n",
    "print(classification_report(test_y, predictions, zero_division=np.nan, target_names=pose_name))"
   ]
  },
  {
   "cell_type": "markdown",
   "id": "2b23339a-41f6-429c-b295-89ad8913b7fa",
   "metadata": {},
   "source": [
    "The high precision and low recall shows that while the model is bad at predicting the pose from the image, within each pose, the predictions made tend to be accurate. While the model misclassified most of the downward dog poses, all of the images that it predicted were downward dog poses were correct. The low f1-score reflects the poor performance of the model."
   ]
  },
  {
   "cell_type": "markdown",
   "id": "f128483b",
   "metadata": {},
   "source": [
    "## Convolutional Neural Network"
   ]
  },
  {
   "cell_type": "markdown",
   "id": "61ba27f0",
   "metadata": {},
   "source": [
    "### DataLoader"
   ]
  },
  {
   "cell_type": "code",
   "execution_count": 12,
   "id": "5a8d4937",
   "metadata": {},
   "outputs": [],
   "source": [
    "from torch.utils.data import DataLoader\n",
    "\n",
    "from torch.utils.data import Dataset\n",
    "\n",
    "class CustomDataset(Dataset):\n",
    "    def __init__(self, X, Y, transform=None):\n",
    "        self.X = X\n",
    "        self.Y = Y\n",
    "        self.transform = transform\n",
    "\n",
    "    def __len__(self):\n",
    "        return len(self.X)\n",
    "\n",
    "    def __getitem__(self, idx):\n",
    "        x_sample = self.X[idx]\n",
    "        y_sample = self.Y[idx]\n",
    "        \n",
    "        if self.transform:\n",
    "            x_sample = self.transform(x_sample)\n",
    "            \n",
    "        return x_sample, y_sample"
   ]
  },
  {
   "cell_type": "markdown",
   "id": "366d3310-4591-4d24-8d66-a09604f644e6",
   "metadata": {},
   "source": [
    "Transform the image in order to convert the image into a tensor, and to normalize the values of the tensors in order to decrease skew and make the distribution of color values a normal distribution."
   ]
  },
  {
   "cell_type": "code",
   "execution_count": 13,
   "id": "696b8df5",
   "metadata": {},
   "outputs": [],
   "source": [
    "from torchvision import transforms\n",
    "\n",
    "img_transform = transforms.Compose([\n",
    "    transforms.ToTensor(),  # Converts the image to a PyTorch tensor\n",
    "    transforms.Normalize((0.5, 0.5, 0.5), (0.5, 0.5, 0.5)) # Normalize the values of the image\n",
    "])"
   ]
  },
  {
   "cell_type": "code",
   "execution_count": 14,
   "id": "c2148485",
   "metadata": {},
   "outputs": [],
   "source": [
    "train = CustomDataset(train_x, train_y, transform=img_transform)\n",
    "val = CustomDataset(valid_x, valid_y, transform=img_transform)\n",
    "test = CustomDataset(test_x, test_y, transform=img_transform)"
   ]
  },
  {
   "cell_type": "code",
   "execution_count": 15,
   "id": "b0ecc367-f7e9-4c7a-ad70-a895971fb491",
   "metadata": {},
   "outputs": [],
   "source": [
    "from torch.utils.data import DataLoader\n",
    "\n",
    "batch_size = 16\n",
    "\n",
    "train_loader = DataLoader(train, batch_size=batch_size)\n",
    "val_loader = DataLoader(val, batch_size=batch_size)\n",
    "test_loader = DataLoader(test, batch_size=batch_size)"
   ]
  },
  {
   "cell_type": "markdown",
   "id": "6a2959fb",
   "metadata": {},
   "source": [
    "### Neural Network"
   ]
  },
  {
   "cell_type": "code",
   "execution_count": 16,
   "id": "9edcadb0-7954-4745-91ce-10cfe637433f",
   "metadata": {},
   "outputs": [],
   "source": [
    "from torch import nn\n",
    "\n",
    "class CNN(nn.Module):\n",
    "    def __init__(self):\n",
    "        super(CNN, self).__init__()\n",
    "\n",
    "        self.conv_layers = nn.Sequential(\n",
    "            #in channels: num of colors in input image (gray = 1; color = 3) \n",
    "            #out channels: num of filters\n",
    "            #kernel size: how big an area should we consider\n",
    "            #stride: number of pixels to move over\n",
    "            #padding: num of pixels to add to each edge of image (3x3 kernel : padding = 1 || 5x5 : padding = 2)\n",
    "            nn.Conv2d(3, 16, kernel_size=3, stride=1, padding=1),\n",
    "            nn.BatchNorm2d(16),\n",
    "            nn.ReLU(inplace=True),\n",
    "            nn.MaxPool2d(kernel_size=2, stride=2),\n",
    "            nn.Conv2d(16, 16, kernel_size=3, stride=1, padding=1),\n",
    "            nn.ReLU(inplace=True),\n",
    "            nn.MaxPool2d(kernel_size=2, stride=2),\n",
    "        )\n",
    "        \n",
    "        self.linear_layers = nn.Sequential(\n",
    "            nn.Linear(10000, 9),\n",
    "        )\n",
    "\n",
    "    def forward(self, X):\n",
    "        output = self.conv_layers(X)\n",
    "        output = output.view(output.size(0), -1)\n",
    "        output = self.linear_layers(output)\n",
    "        return output"
   ]
  },
  {
   "cell_type": "markdown",
   "id": "f5421ef8-c056-4fc4-8316-be4eab97f912",
   "metadata": {},
   "source": [
    "The `Conv2D` layers use a 3x3 kernel with some values and goes over each pixel, getting the sum of products of the color values for the pixel and for the kernel for each pixel. The result is the output. `batchNorm2D` normalizes the input in order to stabilize the model. `ReLU` zeroes out the negative values. The color channels go from 0-255. `MaxPool2D` downsamples the tensor by taking the maximum value in a region.\n",
    "\n",
    "The first convolutional layer has 3 input channels because there are 3 color channels. The linear layer takes in 10000 channels because each picture has 10000 (100x100) pixels."
   ]
  },
  {
   "cell_type": "code",
   "execution_count": 17,
   "id": "b083a3ec-9954-4cba-affb-f509ffc0ca46",
   "metadata": {},
   "outputs": [
    {
     "name": "stdout",
     "output_type": "stream",
     "text": [
      "CNN(\n",
      "  (conv_layers): Sequential(\n",
      "    (0): Conv2d(3, 16, kernel_size=(3, 3), stride=(1, 1), padding=(1, 1))\n",
      "    (1): BatchNorm2d(16, eps=1e-05, momentum=0.1, affine=True, track_running_stats=True)\n",
      "    (2): ReLU(inplace=True)\n",
      "    (3): MaxPool2d(kernel_size=2, stride=2, padding=0, dilation=1, ceil_mode=False)\n",
      "    (4): Conv2d(16, 16, kernel_size=(3, 3), stride=(1, 1), padding=(1, 1))\n",
      "    (5): ReLU(inplace=True)\n",
      "    (6): MaxPool2d(kernel_size=2, stride=2, padding=0, dilation=1, ceil_mode=False)\n",
      "  )\n",
      "  (linear_layers): Sequential(\n",
      "    (0): Linear(in_features=10000, out_features=9, bias=True)\n",
      "  )\n",
      ")\n"
     ]
    }
   ],
   "source": [
    "import torch.optim as optim\n",
    "\n",
    "model = CNN()\n",
    "optimizer = optim.SGD(params=model.parameters(),lr = 0.01)\n",
    "criterion = nn.CrossEntropyLoss()\n",
    "\n",
    "print(model)"
   ]
  },
  {
   "cell_type": "markdown",
   "id": "5187774e-86d1-432d-85f1-c518988ce465",
   "metadata": {},
   "source": [
    "The optimizer adjusts the parameters of the model in order to decrease loss. I chose stochastic gradient descent for the optimizer and cross entropy to determine the loss. the `lr` parameter determines the learning rate, or how much to adjust the parameters."
   ]
  },
  {
   "cell_type": "code",
   "execution_count": 18,
   "id": "b3caeade-effe-42b4-ae66-bc3efc88449e",
   "metadata": {},
   "outputs": [
    {
     "name": "stdout",
     "output_type": "stream",
     "text": [
      "Epoch 0 train loss: 2.0578189914425216 valid loss: 1.9726748977388655\n",
      "Epoch 1 train loss: 1.5914966985583305 valid loss: 1.667197244507926\n",
      "Epoch 2 train loss: 1.242816915269941 valid loss: 1.5019191929272242\n",
      "Epoch 3 train loss: 0.9370161069091409 valid loss: 1.4232850131534396\n",
      "Epoch 4 train loss: 0.6777871566591784 valid loss: 1.3851678101789384\n",
      "Epoch 5 train loss: 0.47255335657003644 valid loss: 1.3911122935158866\n",
      "Epoch 6 train loss: 0.32930511559243314 valid loss: 1.4749046961466472\n",
      "Epoch 7 train loss: 0.2555613174336031 valid loss: 1.5690397719542186\n"
     ]
    }
   ],
   "source": [
    "import torch\n",
    "\n",
    "epochs = 3000\n",
    "total_patience = 3\n",
    "patience = total_patience\n",
    "stop_training = False\n",
    "\n",
    "prev_val_loss = 500000.\n",
    "best_val_loss = 500000.\n",
    "\n",
    "tl = []\n",
    "vl = []\n",
    "\n",
    "epoch = 0\n",
    "while epoch in range(epochs) and not stop_training:\n",
    "    train_loss = 0.\n",
    "    val_loss = 0.\n",
    "    \n",
    "    # Train\n",
    "    model.train()\n",
    "    for images, labels in train_loader:\n",
    "        optimizer.zero_grad()\n",
    "        output = model(images)\n",
    "        loss = criterion(output, labels)\n",
    "        loss.backward()\n",
    "        optimizer.step()\n",
    "        train_loss += loss.item()\n",
    "\n",
    "    tl.append(train_loss / len(train_loader))\n",
    "    # Validate\n",
    "    model.eval()\n",
    "    for data, targets in val_loader:\n",
    "        output = model(data)\n",
    "        loss = criterion(output, targets)\n",
    "        val_loss += loss.item()\n",
    "\n",
    "    vl.append(val_loss / len(val_loader))\n",
    "    # Manage patience\n",
    "    if val_loss > prev_val_loss:\n",
    "        patience -= 1\n",
    "        if patience == 0:\n",
    "            stop_training = True\n",
    "    elif patience < total_patience:\n",
    "            patience = total_patience\n",
    "\n",
    "    prev_val_loss = val_loss\n",
    "    if val_loss < best_val_loss:\n",
    "        best_val_loss = val_loss\n",
    "        torch.save(model.state_dict(), 'best.pt')\n",
    "    \n",
    "    # Print metrics\n",
    "    print('Epoch', epoch, 'train loss:', (train_loss / len(train_loader)),\n",
    "         'valid loss:', val_loss / len(val_loader))\n",
    "    \n",
    "    epoch += 1"
   ]
  },
  {
   "cell_type": "code",
   "execution_count": 19,
   "id": "8c16567f-d262-41a5-8081-a1eaeea5c83d",
   "metadata": {},
   "outputs": [
    {
     "data": {
      "text/plain": [
       "<matplotlib.legend.Legend at 0x7fc58f5217d0>"
      ]
     },
     "execution_count": 19,
     "metadata": {},
     "output_type": "execute_result"
    },
    {
     "data": {
      "image/png": "[encoded data removed]",
      "text/plain": [
       "<Figure size 640x480 with 1 Axes>"
      ]
     },
     "metadata": {},
     "output_type": "display_data"
    }
   ],
   "source": [
    "plt.plot(tl, label='Training loss')\n",
    "plt.plot(vl, label='Valid loss')\n",
    "plt.xlabel('Epoch')\n",
    "plt.ylabel('Loss')\n",
    "plt.title('Training loss and validation loss')\n",
    "plt.legend()"
   ]
  },
  {
   "cell_type": "markdown",
   "id": "9c3f3f29-019e-4e2e-9a26-88c8b308da5f",
   "metadata": {},
   "source": [
    "Training loss drops to around 0.25. Validation loss varies,ranging from 1.25 to 1.75."
   ]
  },
  {
   "cell_type": "markdown",
   "id": "b0c13f44-2a13-4322-988a-06e0e501f992",
   "metadata": {},
   "source": [
    "Load the best state."
   ]
  },
  {
   "cell_type": "code",
   "execution_count": 20,
   "id": "03dc7be1-f494-4176-a303-ca35eabf1edc",
   "metadata": {},
   "outputs": [
    {
     "data": {
      "text/plain": [
       "<All keys matched successfully>"
      ]
     },
     "execution_count": 20,
     "metadata": {},
     "output_type": "execute_result"
    }
   ],
   "source": [
    "model.load_state_dict(torch.load('best.pt'))"
   ]
  },
  {
   "cell_type": "code",
   "execution_count": 21,
   "id": "7e9be521-eb88-49fc-acca-adfd74ea54e9",
   "metadata": {},
   "outputs": [
    {
     "name": "stdout",
     "output_type": "stream",
     "text": [
      "Accuracy 0.6330275229357798\n"
     ]
    }
   ],
   "source": [
    "total = 0\n",
    "correct = 0\n",
    "\n",
    "for image, labels in test_loader:\n",
    "    outputs = model(image)\n",
    "    _, predicted = torch.max(outputs, 1)\n",
    "    for i in range(len(labels)):\n",
    "        pred = predicted[i]\n",
    "        total += 1\n",
    "        if labels[i][pred] == 1:\n",
    "            correct += 1\n",
    "print('Accuracy', float(correct) / float(total))"
   ]
  },
  {
   "cell_type": "markdown",
   "id": "fce6bca3-9107-4e2d-884a-298ff6bf3dc2",
   "metadata": {},
   "source": [
    "The accuracy of the neural network is better than the random forest, but it isn't too great. Accuracy tends to be between 50% and 66%."
   ]
  }
 ],
 "metadata": {
  "kernelspec": {
   "display_name": "Python 3 (ipykernel)",
   "language": "python",
   "name": "python3"
  },
  "language_info": {
   "codemirror_mode": {
    "name": "ipython",
    "version": 3
   },
   "file_extension": ".py",
   "mimetype": "text/x-python",
   "name": "python",
   "nbconvert_exporter": "python",
   "pygments_lexer": "ipython3",
   "version": "3.11.6"
  }
 },
 "nbformat": 4,
 "nbformat_minor": 5
}
